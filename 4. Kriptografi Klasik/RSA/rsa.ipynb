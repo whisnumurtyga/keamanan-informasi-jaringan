{
 "cells": [
  {
   "cell_type": "code",
   "execution_count": 28,
   "metadata": {},
   "outputs": [
    {
     "name": "stdout",
     "output_type": "stream",
     "text": [
      "Pesan asli:  \n",
      "Pesan terenkripsi: [215]\n",
      "Pesan terdekripsi:  \n"
     ]
    }
   ],
   "source": [
    "import random\n",
    "\n",
    "# Fungsi untuk menghitung GCD (greatest common divisor)\n",
    "def gcd(a, b):\n",
    "    if b == 0:\n",
    "        return a\n",
    "    else:\n",
    "        return gcd(b, a % b)\n",
    "\n",
    "# Fungsi untuk menghasilkan kunci publik dan kunci pribadi\n",
    "def generate_keypair(p, q):\n",
    "    n = p * q\n",
    "    phi = (p - 1) * (q - 1)\n",
    "    \n",
    "    # Pilih angka acak 'e' yang saling prima dengan phi\n",
    "    e = random.randrange(1, phi)\n",
    "    while gcd(e, phi) != 1:\n",
    "        e = random.randrange(1, phi)\n",
    "    \n",
    "    # Hitung kunci pribadi 'd'\n",
    "    d = mod_inverse(e, phi)\n",
    "    \n",
    "    # Kembalikan kunci publik dan kunci pribadi\n",
    "    return ((n, e), (n, d))\n",
    "\n",
    "# Fungsi untuk menghitung modulo invers (dengan algoritma Euclidean)\n",
    "def mod_inverse(e, phi):\n",
    "    d = 0\n",
    "    x1 = 0\n",
    "    x2 = 1\n",
    "    y1 = 1\n",
    "    temp_phi = phi\n",
    "    \n",
    "    while e > 0:\n",
    "        temp1 = temp_phi // e\n",
    "        temp2 = temp_phi - temp1 * e\n",
    "        temp_phi = e\n",
    "        e = temp2\n",
    "        \n",
    "        x = x2 - temp1 * x1\n",
    "        y = d - temp1 * y1\n",
    "        \n",
    "        x2 = x1\n",
    "        x1 = x\n",
    "        d = y1\n",
    "        y1 = y\n",
    "        \n",
    "    return d + phi\n",
    "\n",
    "# Fungsi untuk mengenkripsi pesan\n",
    "def encrypt(public_key, pesan):\n",
    "    n, e = public_key\n",
    "    pesan_terenkripsi = [pow(ord(char), e, n) for char in pesan]\n",
    "    return pesan_terenkripsi\n",
    "\n",
    "# Fungsi untuk mendekripsi pesan\n",
    "def decrypt(private_key, pesan_terenkripsi):\n",
    "    n, d = private_key\n",
    "    pesan_terdekripsi = [chr(pow(char, d, n)) for char in pesan_terenkripsi]\n",
    "    return ''.join(pesan_terdekripsi)\n",
    "\n",
    "# Menghasilkan dua bilangan prima acak sebagai p dan q\n",
    "p = 61\n",
    "q = 53\n",
    "\n",
    "public_key, private_key = generate_keypair(p, q)\n",
    "\n",
    "# pesan = \"Ini adalah pesan rahasia.\"\n",
    "pesan = input(\"Masukkan Rahasia: \")\n",
    "pesan_terenkripsi = encrypt(public_key, pesan)\n",
    "pesan_terdekripsi = decrypt(private_key, pesan_terenkripsi)\n",
    "\n",
    "print(\"Pesan asli:\", pesan)\n",
    "print(\"Pesan terenkripsi:\", pesan_terenkripsi)\n",
    "print(\"Pesan terdekripsi:\", pesan_terdekripsi)\n"
   ]
  }
 ],
 "metadata": {
  "kernelspec": {
   "display_name": "smartcom",
   "language": "python",
   "name": "python3"
  },
  "language_info": {
   "codemirror_mode": {
    "name": "ipython",
    "version": 3
   },
   "file_extension": ".py",
   "mimetype": "text/x-python",
   "name": "python",
   "nbconvert_exporter": "python",
   "pygments_lexer": "ipython3",
   "version": "3.7.12"
  }
 },
 "nbformat": 4,
 "nbformat_minor": 2
}
